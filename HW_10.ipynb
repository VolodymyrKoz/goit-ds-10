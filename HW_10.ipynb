{
  "nbformat": 4,
  "nbformat_minor": 0,
  "metadata": {
    "colab": {
      "provenance": []
    },
    "kernelspec": {
      "name": "python3",
      "display_name": "Python 3"
    },
    "language_info": {
      "name": "python"
    }
  },
  "cells": [
    {
      "cell_type": "code",
      "execution_count": null,
      "metadata": {
        "colab": {
          "base_uri": "https://localhost:8080/"
        },
        "id": "Mmeut3UsLr8p",
        "outputId": "28cd4a72-970d-40dd-ca15-f174b29a784d"
      },
      "outputs": [
        {
          "output_type": "stream",
          "name": "stdout",
          "text": [
            "Epoch 1/10\n",
            "938/938 [==============================] - 55s 57ms/step - loss: 0.5554 - accuracy: 0.7972 - val_loss: 0.4071 - val_accuracy: 0.8498\n",
            "Epoch 2/10\n",
            "938/938 [==============================] - 52s 55ms/step - loss: 0.3481 - accuracy: 0.8745 - val_loss: 0.3399 - val_accuracy: 0.8798\n",
            "Epoch 3/10\n",
            "938/938 [==============================] - 54s 57ms/step - loss: 0.2990 - accuracy: 0.8923 - val_loss: 0.3115 - val_accuracy: 0.8894\n",
            "Epoch 4/10\n",
            "938/938 [==============================] - 60s 63ms/step - loss: 0.2665 - accuracy: 0.9026 - val_loss: 0.2785 - val_accuracy: 0.8999\n",
            "Epoch 5/10\n",
            "938/938 [==============================] - 59s 63ms/step - loss: 0.2440 - accuracy: 0.9103 - val_loss: 0.2679 - val_accuracy: 0.9026\n",
            "Epoch 6/10\n",
            "938/938 [==============================] - 51s 55ms/step - loss: 0.2265 - accuracy: 0.9164 - val_loss: 0.2587 - val_accuracy: 0.9064\n",
            "Epoch 7/10\n",
            "938/938 [==============================] - 52s 55ms/step - loss: 0.2075 - accuracy: 0.9227 - val_loss: 0.2623 - val_accuracy: 0.9054\n",
            "Epoch 8/10\n",
            "938/938 [==============================] - 52s 55ms/step - loss: 0.1903 - accuracy: 0.9300 - val_loss: 0.2619 - val_accuracy: 0.9050\n",
            "Epoch 9/10\n",
            "938/938 [==============================] - 56s 59ms/step - loss: 0.1766 - accuracy: 0.9344 - val_loss: 0.2650 - val_accuracy: 0.9092\n",
            "Epoch 10/10\n",
            "938/938 [==============================] - 54s 58ms/step - loss: 0.1631 - accuracy: 0.9389 - val_loss: 0.2611 - val_accuracy: 0.9093\n",
            "313/313 [==============================] - 4s 12ms/step - loss: 0.2611 - accuracy: 0.9093\n",
            "Test accuracy: 0.9093000292778015\n"
          ]
        }
      ],
      "source": [
        "import tensorflow as tf\n",
        "from tensorflow.keras import layers, models\n",
        "from tensorflow.keras.datasets import fashion_mnist\n",
        "\n",
        "(train_images, train_labels), (test_images, test_labels) = fashion_mnist.load_data()\n",
        "train_images, test_images = train_images / 255.0, test_images / 255.0\n",
        "\n",
        "model = models.Sequential()\n",
        "model.add(layers.Conv2D(32, (3, 3), activation='relu', input_shape=(28, 28, 1)))\n",
        "model.add(layers.MaxPooling2D((2, 2)))\n",
        "model.add(layers.Conv2D(64, (3, 3), activation='relu'))\n",
        "model.add(layers.MaxPooling2D((2, 2)))\n",
        "model.add(layers.Conv2D(64, (3, 3), activation='relu'))\n",
        "model.add(layers.Flatten())\n",
        "model.add(layers.Dense(64, activation='relu'))\n",
        "model.add(layers.Dense(10, activation='softmax'))\n",
        "\n",
        "model.compile(optimizer='adam',\n",
        "              loss='sparse_categorical_crossentropy',\n",
        "              metrics=['accuracy'])\n",
        "\n",
        "model.fit(train_images, train_labels, epochs=10, batch_size=64, validation_data=(test_images, test_labels))\n",
        "\n",
        "test_loss, test_acc = model.evaluate(test_images, test_labels)\n",
        "print(f'Test accuracy: {test_acc}')"
      ]
    },
    {
      "cell_type": "code",
      "source": [
        "import os\n",
        "import numpy as np\n",
        "from tensorflow.keras.applications import VGG16\n",
        "\n",
        "\n",
        "(train_images, train_labels), (test_images, test_labels) = fashion_mnist.load_data()\n",
        "\n",
        "train_images = np.expand_dims(train_images, axis=-1)\n",
        "test_images = np.expand_dims(test_images, axis=-1)\n",
        "\n",
        "train_images = tf.image.resize(train_images, (32, 32))\n",
        "test_images = tf.image.resize(test_images, (32, 32))\n",
        "\n",
        "train_images = tf.concat([train_images, train_images, train_images], axis=-1)\n",
        "test_images = tf.concat([test_images, test_images, test_images], axis=-1)\n",
        "\n",
        "train_images = train_images / 255.0\n",
        "test_images = test_images / 255.0\n",
        "\n",
        "base_model = VGG16(weights='imagenet', include_top=False, input_shape=(32, 32, 3))\n",
        "base_model.trainable = False\n",
        "\n",
        "model = models.Sequential()\n",
        "model.add(base_model)\n",
        "model.add(layers.Flatten())\n",
        "model.add(layers.Dense(256, activation='relu'))\n",
        "model.add(layers.Dropout(0.5))\n",
        "model.add(layers.Dense(10, activation='softmax'))\n",
        "\n",
        "model.compile(optimizer='adam',\n",
        "              loss='sparse_categorical_crossentropy',\n",
        "              metrics=['accuracy'])\n",
        "\n",
        "model.summary()\n",
        "\n",
        "model.fit(train_images, train_labels, epochs=5, batch_size=64, validation_data=(test_images, test_labels))\n",
        "test_loss, test_acc = model.evaluate(test_images, test_labels)\n",
        "print(f'Test accuracy: {test_acc}')"
      ],
      "metadata": {
        "colab": {
          "base_uri": "https://localhost:8080/"
        },
        "id": "dJfyY85rOVFz",
        "outputId": "87ed40a5-ffcc-4059-93e6-8fd72c8f9e0a"
      },
      "execution_count": null,
      "outputs": [
        {
          "output_type": "stream",
          "name": "stdout",
          "text": [
            "Model: \"sequential_7\"\n",
            "_________________________________________________________________\n",
            " Layer (type)                Output Shape              Param #   \n",
            "=================================================================\n",
            " vgg16 (Functional)          (None, 1, 1, 512)         14714688  \n",
            "                                                                 \n",
            " flatten_6 (Flatten)         (None, 512)               0         \n",
            "                                                                 \n",
            " dense_12 (Dense)            (None, 256)               131328    \n",
            "                                                                 \n",
            " dropout_6 (Dropout)         (None, 256)               0         \n",
            "                                                                 \n",
            " dense_13 (Dense)            (None, 10)                2570      \n",
            "                                                                 \n",
            "=================================================================\n",
            "Total params: 14848586 (56.64 MB)\n",
            "Trainable params: 133898 (523.04 KB)\n",
            "Non-trainable params: 14714688 (56.13 MB)\n",
            "_________________________________________________________________\n",
            "Epoch 1/5\n",
            "938/938 [==============================] - 1090s 1s/step - loss: 0.6431 - accuracy: 0.7729 - val_loss: 0.4688 - val_accuracy: 0.8317\n",
            "Epoch 2/5\n",
            "938/938 [==============================] - 1057s 1s/step - loss: 0.4721 - accuracy: 0.8301 - val_loss: 0.4201 - val_accuracy: 0.8454\n",
            "Epoch 3/5\n",
            "938/938 [==============================] - 1003s 1s/step - loss: 0.4343 - accuracy: 0.8417 - val_loss: 0.4014 - val_accuracy: 0.8504\n",
            "Epoch 4/5\n",
            "938/938 [==============================] - 1007s 1s/step - loss: 0.4145 - accuracy: 0.8505 - val_loss: 0.3846 - val_accuracy: 0.8568\n",
            "Epoch 5/5\n",
            "938/938 [==============================] - 1015s 1s/step - loss: 0.3981 - accuracy: 0.8527 - val_loss: 0.3861 - val_accuracy: 0.8578\n",
            "313/313 [==============================] - 146s 468ms/step - loss: 0.3861 - accuracy: 0.8578\n",
            "Test accuracy: 0.8578000068664551\n"
          ]
        }
      ]
    },
    {
      "cell_type": "code",
      "source": [
        "base_model.summary()"
      ],
      "metadata": {
        "colab": {
          "base_uri": "https://localhost:8080/"
        },
        "id": "fdID138gbzR_",
        "outputId": "6826db7c-90cf-4dec-8843-2e14d3586ed1"
      },
      "execution_count": null,
      "outputs": [
        {
          "output_type": "stream",
          "name": "stdout",
          "text": [
            "Model: \"vgg16\"\n",
            "_________________________________________________________________\n",
            " Layer (type)                Output Shape              Param #   \n",
            "=================================================================\n",
            " input_8 (InputLayer)        [(None, 32, 32, 3)]       0         \n",
            "                                                                 \n",
            " block1_conv1 (Conv2D)       (None, 32, 32, 64)        1792      \n",
            "                                                                 \n",
            " block1_conv2 (Conv2D)       (None, 32, 32, 64)        36928     \n",
            "                                                                 \n",
            " block1_pool (MaxPooling2D)  (None, 16, 16, 64)        0         \n",
            "                                                                 \n",
            " block2_conv1 (Conv2D)       (None, 16, 16, 128)       73856     \n",
            "                                                                 \n",
            " block2_conv2 (Conv2D)       (None, 16, 16, 128)       147584    \n",
            "                                                                 \n",
            " block2_pool (MaxPooling2D)  (None, 8, 8, 128)         0         \n",
            "                                                                 \n",
            " block3_conv1 (Conv2D)       (None, 8, 8, 256)         295168    \n",
            "                                                                 \n",
            " block3_conv2 (Conv2D)       (None, 8, 8, 256)         590080    \n",
            "                                                                 \n",
            " block3_conv3 (Conv2D)       (None, 8, 8, 256)         590080    \n",
            "                                                                 \n",
            " block3_pool (MaxPooling2D)  (None, 4, 4, 256)         0         \n",
            "                                                                 \n",
            " block4_conv1 (Conv2D)       (None, 4, 4, 512)         1180160   \n",
            "                                                                 \n",
            " block4_conv2 (Conv2D)       (None, 4, 4, 512)         2359808   \n",
            "                                                                 \n",
            " block4_conv3 (Conv2D)       (None, 4, 4, 512)         2359808   \n",
            "                                                                 \n",
            " block4_pool (MaxPooling2D)  (None, 2, 2, 512)         0         \n",
            "                                                                 \n",
            " block5_conv1 (Conv2D)       (None, 2, 2, 512)         2359808   \n",
            "                                                                 \n",
            " block5_conv2 (Conv2D)       (None, 2, 2, 512)         2359808   \n",
            "                                                                 \n",
            " block5_conv3 (Conv2D)       (None, 2, 2, 512)         2359808   \n",
            "                                                                 \n",
            " block5_pool (MaxPooling2D)  (None, 1, 1, 512)         0         \n",
            "                                                                 \n",
            "=================================================================\n",
            "Total params: 14714688 (56.13 MB)\n",
            "Trainable params: 0 (0.00 Byte)\n",
            "Non-trainable params: 14714688 (56.13 MB)\n",
            "_________________________________________________________________\n"
          ]
        }
      ]
    },
    {
      "cell_type": "code",
      "source": [
        "for layer in base_model.layers:\n",
        "    if layer.name.startswith('block5'):\n",
        "        layer.trainable = True\n",
        "    else:\n",
        "        layer.trainable = False\n",
        "\n",
        "model.compile(optimizer='adam',\n",
        "              loss='sparse_categorical_crossentropy',\n",
        "              metrics=['accuracy'])\n",
        "\n",
        "model.fit(train_images, train_labels, epochs=5, batch_size=64, validation_data=(test_images, test_labels))\n",
        "test_loss, test_acc = model.evaluate(test_images, test_labels)\n",
        "print(f'Test accuracy: {test_acc}')"
      ],
      "metadata": {
        "colab": {
          "base_uri": "https://localhost:8080/"
        },
        "id": "YhUHOpYHy6qf",
        "outputId": "4512c8e3-bbf7-4974-997a-7998d0b467ab"
      },
      "execution_count": null,
      "outputs": [
        {
          "output_type": "stream",
          "name": "stdout",
          "text": [
            "Epoch 1/5\n",
            "938/938 [==============================] - 1066s 1s/step - loss: 0.3864 - accuracy: 0.8580 - val_loss: 0.3787 - val_accuracy: 0.8608\n",
            "Epoch 2/5\n",
            "938/938 [==============================] - 991s 1s/step - loss: 0.3778 - accuracy: 0.8590 - val_loss: 0.3738 - val_accuracy: 0.8639\n",
            "Epoch 3/5\n",
            "938/938 [==============================] - 1055s 1s/step - loss: 0.3673 - accuracy: 0.8651 - val_loss: 0.3637 - val_accuracy: 0.8683\n",
            "Epoch 4/5\n",
            "938/938 [==============================] - 991s 1s/step - loss: 0.3611 - accuracy: 0.8662 - val_loss: 0.3629 - val_accuracy: 0.8672\n",
            "Epoch 5/5\n",
            "938/938 [==============================] - 1004s 1s/step - loss: 0.3539 - accuracy: 0.8691 - val_loss: 0.3606 - val_accuracy: 0.8678\n",
            "313/313 [==============================] - 143s 456ms/step - loss: 0.3606 - accuracy: 0.8678\n",
            "Test accuracy: 0.8677999973297119\n"
          ]
        }
      ]
    },
    {
      "cell_type": "code",
      "source": [
        "base_model.summary()"
      ],
      "metadata": {
        "colab": {
          "base_uri": "https://localhost:8080/"
        },
        "id": "YAkaA6TTlOcu",
        "outputId": "a80eda9b-2cbc-40ca-f7e3-5b75643b007d"
      },
      "execution_count": null,
      "outputs": [
        {
          "output_type": "stream",
          "name": "stdout",
          "text": [
            "Model: \"vgg16\"\n",
            "_________________________________________________________________\n",
            " Layer (type)                Output Shape              Param #   \n",
            "=================================================================\n",
            " input_8 (InputLayer)        [(None, 32, 32, 3)]       0         \n",
            "                                                                 \n",
            " block1_conv1 (Conv2D)       (None, 32, 32, 64)        1792      \n",
            "                                                                 \n",
            " block1_conv2 (Conv2D)       (None, 32, 32, 64)        36928     \n",
            "                                                                 \n",
            " block1_pool (MaxPooling2D)  (None, 16, 16, 64)        0         \n",
            "                                                                 \n",
            " block2_conv1 (Conv2D)       (None, 16, 16, 128)       73856     \n",
            "                                                                 \n",
            " block2_conv2 (Conv2D)       (None, 16, 16, 128)       147584    \n",
            "                                                                 \n",
            " block2_pool (MaxPooling2D)  (None, 8, 8, 128)         0         \n",
            "                                                                 \n",
            " block3_conv1 (Conv2D)       (None, 8, 8, 256)         295168    \n",
            "                                                                 \n",
            " block3_conv2 (Conv2D)       (None, 8, 8, 256)         590080    \n",
            "                                                                 \n",
            " block3_conv3 (Conv2D)       (None, 8, 8, 256)         590080    \n",
            "                                                                 \n",
            " block3_pool (MaxPooling2D)  (None, 4, 4, 256)         0         \n",
            "                                                                 \n",
            " block4_conv1 (Conv2D)       (None, 4, 4, 512)         1180160   \n",
            "                                                                 \n",
            " block4_conv2 (Conv2D)       (None, 4, 4, 512)         2359808   \n",
            "                                                                 \n",
            " block4_conv3 (Conv2D)       (None, 4, 4, 512)         2359808   \n",
            "                                                                 \n",
            " block4_pool (MaxPooling2D)  (None, 2, 2, 512)         0         \n",
            "                                                                 \n",
            " block5_conv1 (Conv2D)       (None, 2, 2, 512)         2359808   \n",
            "                                                                 \n",
            " block5_conv2 (Conv2D)       (None, 2, 2, 512)         2359808   \n",
            "                                                                 \n",
            " block5_conv3 (Conv2D)       (None, 2, 2, 512)         2359808   \n",
            "                                                                 \n",
            " block5_pool (MaxPooling2D)  (None, 1, 1, 512)         0         \n",
            "                                                                 \n",
            "=================================================================\n",
            "Total params: 14714688 (56.13 MB)\n",
            "Trainable params: 0 (0.00 Byte)\n",
            "Non-trainable params: 14714688 (56.13 MB)\n",
            "_________________________________________________________________\n"
          ]
        }
      ]
    },
    {
      "cell_type": "code",
      "source": [
        "for layer in base_model.layers:\n",
        "    if layer.name.startswith('block4'):\n",
        "        layer.trainable = True\n",
        "    else:\n",
        "        layer.trainable = False\n",
        "\n",
        "model.compile(optimizer='adam',\n",
        "              loss='sparse_categorical_crossentropy',\n",
        "              metrics=['accuracy'])\n",
        "\n",
        "model.fit(train_images, train_labels, epochs=5, batch_size=64, validation_data=(test_images, test_labels))\n",
        "test_loss, test_acc = model.evaluate(test_images, test_labels)\n",
        "print(f'Test accuracy: {test_acc}')"
      ],
      "metadata": {
        "colab": {
          "base_uri": "https://localhost:8080/"
        },
        "id": "dP218Bjhk8ae",
        "outputId": "305f26fd-71a6-4bc7-df81-6ae04b164e67"
      },
      "execution_count": null,
      "outputs": [
        {
          "output_type": "stream",
          "name": "stdout",
          "text": [
            "Epoch 1/5\n",
            "938/938 [==============================] - 1069s 1s/step - loss: 0.3472 - accuracy: 0.8705 - val_loss: 0.3623 - val_accuracy: 0.8718\n",
            "Epoch 2/5\n",
            "938/938 [==============================] - 1003s 1s/step - loss: 0.3429 - accuracy: 0.8731 - val_loss: 0.3569 - val_accuracy: 0.8690\n",
            "Epoch 3/5\n",
            "938/938 [==============================] - 1061s 1s/step - loss: 0.3361 - accuracy: 0.8738 - val_loss: 0.3515 - val_accuracy: 0.8735\n",
            "Epoch 4/5\n",
            "938/938 [==============================] - 1070s 1s/step - loss: 0.3351 - accuracy: 0.8751 - val_loss: 0.3605 - val_accuracy: 0.8712\n",
            "Epoch 5/5\n",
            "938/938 [==============================] - 1006s 1s/step - loss: 0.3294 - accuracy: 0.8762 - val_loss: 0.3550 - val_accuracy: 0.8701\n",
            "313/313 [==============================] - 151s 480ms/step - loss: 0.3550 - accuracy: 0.8701\n",
            "Test accuracy: 0.8701000213623047\n"
          ]
        }
      ]
    }
  ]
}